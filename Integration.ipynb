{
 "cells": [
  {
   "cell_type": "markdown",
   "id": "85e0db7b-e324-4a8f-b982-a8b089e14618",
   "metadata": {
    "tags": []
   },
   "source": [
    "# Integration"
   ]
  },
  {
   "cell_type": "markdown",
   "id": "1dd7050b-9092-421a-ab07-9a581a581393",
   "metadata": {
    "jupyter": {
     "source_hidden": true
    },
    "tags": []
   },
   "source": [
    "Integration, also known as anti-derivation, is the process of finding the n+1 order function given an n order function. There are two main types of integrals: general and definite. General integrals give a general function whereas definite integrals give the area between the function and the variable's axis within a given domain. "
   ]
  },
  {
   "cell_type": "markdown",
   "id": "499c778b-74f8-4794-85be-7fe7eccc1115",
   "metadata": {
    "jp-MarkdownHeadingCollapsed": true,
    "tags": []
   },
   "source": [
    "## Power rule of Integration"
   ]
  },
  {
   "cell_type": "markdown",
   "id": "542c8793-b713-4001-857d-1f47e8e93d5c",
   "metadata": {},
   "source": [
    "Integrals have a power rule similar to derivatives, just the opposite of the power rule for integration. For example, if we had the function f(x) = x^3, the derivative would be f'(x) = 3x^2. To perform the integral of f'(x), we would calculate the anti-derivative of this function. To get the derivative of f(x), we multiplied by the power and then subtracted one from the power. Therefore, to get the antiderivative, we would add one to the power and divide by the power. Before we are done, we have to remember that the derivative of a constant is 0, therefore we would have no way of knowing if there was a constant in the anti-derivative since there is nothing there! To settle our qualms, we need to add a general constant to represent this unknown constant."
   ]
  },
  {
   "cell_type": "markdown",
   "id": "a07f972b-5bcd-4545-8984-092b34ed3034",
   "metadata": {
    "tags": []
   },
   "source": [
    "### Examples"
   ]
  },
  {
   "cell_type": "code",
   "execution_count": 4,
   "id": "2dc15f2f-5884-46d7-b530-ba0ed65dc970",
   "metadata": {
    "tags": []
   },
   "outputs": [
    {
     "data": {
      "text/latex": [
       "$\\displaystyle x^{3}$"
      ],
      "text/plain": [
       "x**3"
      ]
     },
     "execution_count": 4,
     "metadata": {},
     "output_type": "execute_result"
    }
   ],
   "source": [
    "import sympy as sp\n",
    "x = sp.Symbol('x')\n",
    "\n",
    "# f(x) = 3x^2\n",
    "func = 3*x**2\n",
    "\n",
    "# expecting x^3 + c\n",
    "sp.integrate(func)"
   ]
  },
  {
   "cell_type": "code",
   "execution_count": 5,
   "id": "4bf43158-4080-4117-b16f-359229ca18ac",
   "metadata": {
    "tags": []
   },
   "outputs": [
    {
     "data": {
      "text/latex": [
       "$\\displaystyle 2 x^{2}$"
      ],
      "text/plain": [
       "2*x**2"
      ]
     },
     "execution_count": 5,
     "metadata": {},
     "output_type": "execute_result"
    }
   ],
   "source": [
    "# f(x) = 4x\n",
    "func = 4*x\n",
    "\n",
    "# expecting 2x^2 + c\n",
    "sp.integrate(func)"
   ]
  },
  {
   "cell_type": "code",
   "execution_count": 6,
   "id": "14671387-04ba-4f2e-823d-c8d6ad608a45",
   "metadata": {
    "tags": []
   },
   "outputs": [
    {
     "data": {
      "text/latex": [
       "$\\displaystyle \\frac{9 x^{4}}{4}$"
      ],
      "text/plain": [
       "9*x**4/4"
      ]
     },
     "execution_count": 6,
     "metadata": {},
     "output_type": "execute_result"
    }
   ],
   "source": [
    "# f(x) = 9x*3\n",
    "func = 9*x**3\n",
    "\n",
    "# expecting 9/4x^4 + c\n",
    "sp.integrate(func)"
   ]
  },
  {
   "cell_type": "markdown",
   "id": "d2d86581-df9e-4cff-beaa-b577c1ee4337",
   "metadata": {},
   "source": [
    "## Common Integrals"
   ]
  }
 ],
 "metadata": {
  "kernelspec": {
   "display_name": "Python 3 (ipykernel)",
   "language": "python",
   "name": "python3"
  },
  "language_info": {
   "codemirror_mode": {
    "name": "ipython",
    "version": 3
   },
   "file_extension": ".py",
   "mimetype": "text/x-python",
   "name": "python",
   "nbconvert_exporter": "python",
   "pygments_lexer": "ipython3",
   "version": "3.11.5"
  }
 },
 "nbformat": 4,
 "nbformat_minor": 5
}
