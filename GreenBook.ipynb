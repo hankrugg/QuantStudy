{
 "cells": [
  {
   "cell_type": "markdown",
   "id": "cf5d72f6-f953-43d1-8e35-a9432b630e66",
   "metadata": {},
   "source": [
    "# Drunk Passenger"
   ]
  },
  {
   "cell_type": "markdown",
   "id": "db76cbfa-2ac2-4ab6-bd5d-1575dc7900e0",
   "metadata": {},
   "source": [
    "### There are 100 people in line to get on a plane with seats assigned to their position in line. The person first in line is drunk and randomly chooses a seat. You are 100th in line. What is the probability you get your seat?"
   ]
  },
  {
   "cell_type": "code",
   "execution_count": 57,
   "id": "57759544-6e84-4ec2-bd5d-e8722d6262b7",
   "metadata": {
    "tags": []
   },
   "outputs": [
    {
     "name": "stdout",
     "output_type": "stream",
     "text": [
      "0.500572\n"
     ]
    }
   ],
   "source": [
    "import numpy as np\n",
    "\n",
    "iterations = 1000000\n",
    "\n",
    "wins = 0\n",
    "\n",
    "for j in range(iterations):\n",
    "    seats = [i for i in range(101)]\n",
    "    for i in range(99):\n",
    "        if i == 0:\n",
    "            x = np.random.choice(seats)\n",
    "            seats.remove(x)\n",
    "        if i not in seats:\n",
    "            x = np.random.choice(seats)\n",
    "            seats.remove(x)\n",
    "        else:\n",
    "            seats.remove(i)\n",
    "\n",
    "    if seats[0] == 100:\n",
    "        wins += 1\n",
    "\n",
    "print(wins / iterations)"
   ]
  },
  {
   "cell_type": "code",
   "execution_count": 64,
   "id": "d92bab37-e939-4f00-a69d-f2952f485d2c",
   "metadata": {
    "tags": []
   },
   "outputs": [
    {
     "name": "stdout",
     "output_type": "stream",
     "text": [
      "Expected number of flips: 9.266\n"
     ]
    }
   ],
   "source": [
    "import numpy as np\n",
    "\n",
    "# Define transition matrix for Markov Chain\n",
    "P = np.array([\n",
    "    [1, 0, 0, 0, 0],    # 3 Heads (absorbing state)\n",
    "    [0, 1, 0, 0, 0],    # 4 Heads (absorbing state)\n",
    "    [1/3, 1/3, 1/3, 0, 0],  # 2 Heads, 2 Tails\n",
    "    [0, 1/3, 1/3, 1/3, 0],  # 1 Head, 3 Tails\n",
    "    [0, 0, 1/3, 1/3, 1/3]   # 0 Heads, 4 Tails\n",
    "])\n",
    "\n",
    "# Identify transient states (excluding absorbing states)\n",
    "Q = P[2:5, 2:5]\n",
    "I_Q = np.eye(Q.shape[0])\n",
    "\n",
    "# Compute fundamental matrix N\n",
    "N = np.linalg.inv(I_Q - Q)\n",
    "\n",
    "# Immediate flip counts per state (only transient states)\n",
    "b = np.array([6, 6, 6])\n",
    "E_transient = np.dot(N, b)\n",
    "\n",
    "# Adjusted binomial probabilities for transient states\n",
    "probabilities = np.array([5/16, 6/16, 4/16, 1/16])\n",
    "transient_probabilities = np.array([6/16, 4/16, 1/16])\n",
    "expected_flips = np.dot(transient_probabilities, E_transient) + 4 * probabilities[0]\n",
    "\n",
    "print(f'Expected number of flips: {expected_flips:.3f}')\n"
   ]
  },
  {
   "cell_type": "code",
   "execution_count": 74,
   "id": "e20d3729-afbd-46ee-837a-78ce20c484c6",
   "metadata": {
    "tags": []
   },
   "outputs": [
    {
     "data": {
      "text/plain": [
       "9.266666666666667"
      ]
     },
     "execution_count": 74,
     "metadata": {},
     "output_type": "execute_result"
    }
   ],
   "source": [
    "4/15 + 9"
   ]
  }
 ],
 "metadata": {
  "kernelspec": {
   "display_name": "Python 3 (ipykernel)",
   "language": "python",
   "name": "python3"
  },
  "language_info": {
   "codemirror_mode": {
    "name": "ipython",
    "version": 3
   },
   "file_extension": ".py",
   "mimetype": "text/x-python",
   "name": "python",
   "nbconvert_exporter": "python",
   "pygments_lexer": "ipython3",
   "version": "3.11.5"
  }
 },
 "nbformat": 4,
 "nbformat_minor": 5
}
