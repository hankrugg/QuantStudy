{
 "cells": [
  {
   "cell_type": "markdown",
   "metadata": {},
   "source": [
    "10. Stick\n",
    "You randomly break a stick into two pieces. What is the expected length of the smaller piece?"
   ]
  },
  {
   "cell_type": "code",
   "execution_count": 19,
   "metadata": {},
   "outputs": [
    {
     "name": "stdout",
     "output_type": "stream",
     "text": [
      "0.24990627448113176\n"
     ]
    }
   ],
   "source": [
    "import numpy as np\n",
    "\n",
    "iterations = 100000\n",
    "count = 0\n",
    "\n",
    "for i in range(iterations):\n",
    "    x = np.random.rand()\n",
    "    if x > 0.5:\n",
    "        x = 1 - x\n",
    "    count += x\n",
    "\n",
    "print(count / iterations)"
   ]
  }
 ],
 "metadata": {
  "kernelspec": {
   "display_name": "Python 3",
   "language": "python",
   "name": "python3"
  },
  "language_info": {
   "codemirror_mode": {
    "name": "ipython",
    "version": 3
   },
   "file_extension": ".py",
   "mimetype": "text/x-python",
   "name": "python",
   "nbconvert_exporter": "python",
   "pygments_lexer": "ipython3",
   "version": "3.11.5"
  }
 },
 "nbformat": 4,
 "nbformat_minor": 2
}
