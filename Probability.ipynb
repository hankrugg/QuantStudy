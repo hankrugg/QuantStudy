{
 "cells": [
  {
   "cell_type": "markdown",
   "id": "d3ddd7ff-99f5-41e5-90d1-7c163d93ea7a",
   "metadata": {},
   "source": [
    "# Probability"
   ]
  },
  {
   "cell_type": "markdown",
   "id": "a056e55d-3837-46c0-af4c-fcc0b0067aa1",
   "metadata": {},
   "source": [
    "Probability is a measure of how likely an outcome is. It is always measured between 0 and 1, with 0 being never going to happen, and 1 being always going to happen."
   ]
  },
  {
   "cell_type": "markdown",
   "id": "2086f672-91fa-447c-bbff-3da563c2a21d",
   "metadata": {},
   "source": [
    "## Basics"
   ]
  },
  {
   "cell_type": "markdown",
   "id": "235004a7-4d2f-4aab-879a-98a00f41b908",
   "metadata": {
    "tags": []
   },
   "source": [
    "Basic probability are things like coin flips and card pulls. The formula for probability is, amount of desired outcomes / amount of total outcomes. "
   ]
  },
  {
   "cell_type": "code",
   "execution_count": 26,
   "id": "c0d3b170-a4a0-4b7c-aa82-0bf0b388906b",
   "metadata": {
    "tags": []
   },
   "outputs": [
    {
     "data": {
      "text/plain": [
       "0.5"
      ]
     },
     "execution_count": 26,
     "metadata": {},
     "output_type": "execute_result"
    }
   ],
   "source": [
    "# probability of flipping a coin and getting heads\n",
    "# 1 desired outcome (H), 2 total outcomes (H,T)\n",
    "p_head = 1/2\n",
    "p_head"
   ]
  },
  {
   "cell_type": "markdown",
   "id": "be1a03eb-e996-40c1-b004-92f9a039de7f",
   "metadata": {},
   "source": [
    "To verify that we got the correct solution, we can leverge the law of large numbers and computer simulations to simulate the event and calculate the observed probability. This will not give us the exact probability, but if we are close the the calcualted probabiliyt, we can be confident in out solution."
   ]
  },
  {
   "cell_type": "code",
   "execution_count": 27,
   "id": "b1cba915-d70c-408f-9066-1c837cc17608",
   "metadata": {
    "tags": []
   },
   "outputs": [
    {
     "name": "stdout",
     "output_type": "stream",
     "text": [
      "0.5008\n"
     ]
    }
   ],
   "source": [
    "import numpy as np\n",
    "iterations = 10000\n",
    "\n",
    "heads = 0\n",
    "for i in range(iterations):\n",
    "    heads += np.random.randint(0,2)\n",
    "    \n",
    "print(heads / iterations)"
   ]
  },
  {
   "cell_type": "code",
   "execution_count": 21,
   "id": "2b930e0e-d35e-4537-8c3a-62e9c33ff7d9",
   "metadata": {
    "tags": []
   },
   "outputs": [
    {
     "data": {
      "text/plain": [
       "1"
      ]
     },
     "execution_count": 21,
     "metadata": {},
     "output_type": "execute_result"
    }
   ],
   "source": [
    "np.random.randint(0,2)"
   ]
  }
 ],
 "metadata": {
  "kernelspec": {
   "display_name": "Python 3 (ipykernel)",
   "language": "python",
   "name": "python3"
  },
  "language_info": {
   "codemirror_mode": {
    "name": "ipython",
    "version": 3
   },
   "file_extension": ".py",
   "mimetype": "text/x-python",
   "name": "python",
   "nbconvert_exporter": "python",
   "pygments_lexer": "ipython3",
   "version": "3.11.5"
  }
 },
 "nbformat": 4,
 "nbformat_minor": 5
}
