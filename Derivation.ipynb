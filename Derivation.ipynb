{
 "cells": [
  {
   "cell_type": "markdown",
   "id": "e1d667d7-fbca-4728-b99b-07be3611d970",
   "metadata": {},
   "source": [
    "# Derivatives"
   ]
  },
  {
   "cell_type": "markdown",
   "id": "770a57f3-bcfc-4faa-8d27-e4aa5c0d8334",
   "metadata": {},
   "source": [
    "Derivatives are a way of representing a function in a different form. Normally, it is viewed as how fast the function is changing."
   ]
  },
  {
   "cell_type": "markdown",
   "id": "611a9052-782e-4c0b-a220-35709b8e77fe",
   "metadata": {},
   "source": [
    "## Power Rule"
   ]
  },
  {
   "cell_type": "markdown",
   "id": "e258c725-8117-4e57-81f1-dbae523dc52e",
   "metadata": {
    "tags": []
   },
   "source": [
    "The basic way of evaluating derivatives is using the power rule. The power rule is when you move the power to the front of the term, and reduce the power by one. For example, f(x) = x^3, f'(x) = 3x^2"
   ]
  },
  {
   "cell_type": "code",
   "execution_count": 8,
   "id": "818f8b9d-ead9-476a-84e8-df7ae29f2df8",
   "metadata": {
    "tags": []
   },
   "outputs": [
    {
     "data": {
      "text/latex": [
       "$\\displaystyle 3 x^{2}$"
      ],
      "text/plain": [
       "3*x**2"
      ]
     },
     "execution_count": 8,
     "metadata": {},
     "output_type": "execute_result"
    }
   ],
   "source": [
    "import sympy as sp\n",
    "\n",
    "x = sp.Symbol('x')\n",
    "\n",
    "# f(x) = x^3\n",
    "func = x**3\n",
    "\n",
    "# expecting f'(x) = 3x^2\n",
    "sp.Derivative(func, x).doit()"
   ]
  },
  {
   "cell_type": "code",
   "execution_count": 10,
   "id": "3b09138d-9d6f-402a-9d93-8e7fb111b0ae",
   "metadata": {
    "tags": []
   },
   "outputs": [
    {
     "data": {
      "text/latex": [
       "$\\displaystyle \\frac{1}{2 \\sqrt{x}}$"
      ],
      "text/plain": [
       "1/(2*sqrt(x))"
      ]
     },
     "execution_count": 10,
     "metadata": {},
     "output_type": "execute_result"
    }
   ],
   "source": [
    "# f(x) = sqrt(x)\n",
    "func = sp.sqrt(x)\n",
    "\n",
    "# f'(x) = 1/2x^(-1/2)\n",
    "sp.Derivative(func, x).doit()"
   ]
  },
  {
   "cell_type": "markdown",
   "id": "c50a4a76-0636-469c-844d-7c94c3f17205",
   "metadata": {},
   "source": [
    "## Multiplication Rule"
   ]
  },
  {
   "cell_type": "markdown",
   "id": "ed51a249-a669-4081-be19-ad2e533da55e",
   "metadata": {},
   "source": [
    "When you have two functions multiplied by eachother, you use the following formula. f(x)*g(x) ddx = f'(x)*g(x) + f(x)*g'(x)"
   ]
  },
  {
   "cell_type": "code",
   "execution_count": 11,
   "id": "de509cd8-6280-41c1-9097-850e9ff43ff9",
   "metadata": {
    "tags": []
   },
   "outputs": [
    {
     "data": {
      "text/latex": [
       "$\\displaystyle x^{2} \\cos{\\left(x \\right)} + 2 x \\sin{\\left(x \\right)}$"
      ],
      "text/plain": [
       "x**2*cos(x) + 2*x*sin(x)"
      ]
     },
     "execution_count": 11,
     "metadata": {},
     "output_type": "execute_result"
    }
   ],
   "source": [
    "# f(x) = x^2*sin(x)\n",
    "func = x**2 * sp.sin(x)\n",
    "\n",
    "# f'(x) = 2x * sin(x) + x^2*cos(x)\n",
    "sp.Derivative(func, x).doit()"
   ]
  },
  {
   "cell_type": "code",
   "execution_count": 14,
   "id": "7c7eda27-fc9f-4246-9310-34462f3bf5b2",
   "metadata": {
    "tags": []
   },
   "outputs": [
    {
     "data": {
      "text/latex": [
       "$\\displaystyle e^{x} \\log{\\left(x \\right)} + \\frac{e^{x}}{x}$"
      ],
      "text/plain": [
       "exp(x)*log(x) + exp(x)/x"
      ]
     },
     "execution_count": 14,
     "metadata": {},
     "output_type": "execute_result"
    }
   ],
   "source": [
    "# f(x) = e^x*ln(x)\n",
    "func = sp.exp(x) * sp.ln(x)\n",
    "\n",
    "# f'(x) = e^x * ln(x) + e^x / x\n",
    "sp.Derivative(func, x).doit()"
   ]
  },
  {
   "cell_type": "markdown",
   "id": "c95162ab-e88a-4174-94fc-9ad178813dc7",
   "metadata": {},
   "source": [
    "## Quotient Rule"
   ]
  },
  {
   "cell_type": "markdown",
   "id": "6aed79d5-22b7-4c88-bcaf-7cb2cae73838",
   "metadata": {},
   "source": [
    "When you have a quotient of two functions, you use following formula. f(x) / g(x) = f(x) * g'(x) - f'(x) * g(x) / g(x)^2"
   ]
  },
  {
   "cell_type": "code",
   "execution_count": 16,
   "id": "79775393-6aa3-491a-a389-de6fb51c6b5b",
   "metadata": {
    "tags": []
   },
   "outputs": [
    {
     "data": {
      "text/latex": [
       "$\\displaystyle \\frac{2 x}{\\log{\\left(x \\right)}} - \\frac{x}{\\log{\\left(x \\right)}^{2}}$"
      ],
      "text/plain": [
       "2*x/log(x) - x/log(x)**2"
      ]
     },
     "execution_count": 16,
     "metadata": {},
     "output_type": "execute_result"
    }
   ],
   "source": [
    "# f(x) = x^2 / ln(x)\n",
    "func = x**2 / sp.ln(x)\n",
    "\n",
    "# f'(x) = (x**2/x) / \n",
    "sp.Derivative(func, x).doit()"
   ]
  },
  {
   "cell_type": "markdown",
   "id": "e835372b-6371-4b73-aaf8-78b45bfca546",
   "metadata": {},
   "source": [
    "## Chain Rule"
   ]
  },
  {
   "cell_type": "markdown",
   "id": "55bdb39c-1d33-486f-9f51-a0318eb4c6c4",
   "metadata": {},
   "source": [
    "When you have a composition of funcitons, you use the following formula. f(g(x)) = f'(g(x)*g'(x)"
   ]
  },
  {
   "cell_type": "code",
   "execution_count": 34,
   "id": "518e8d50-b257-42ee-a526-3e4e6633816c",
   "metadata": {
    "tags": []
   },
   "outputs": [
    {
     "data": {
      "text/latex": [
       "$\\displaystyle - \\sin{\\left(\\sin{\\left(x \\right)} \\right)} \\cos{\\left(x \\right)}$"
      ],
      "text/plain": [
       "-sin(sin(x))*cos(x)"
      ]
     },
     "execution_count": 34,
     "metadata": {},
     "output_type": "execute_result"
    }
   ],
   "source": [
    "# f(x) = cos(sin(x))\n",
    "func = sp.cos(sp.sin(x))\n",
    "\n",
    "# f'(x) = -sin(sin(x)*cos(x)\n",
    "sp.Derivative(func, x).doit()"
   ]
  },
  {
   "cell_type": "code",
   "execution_count": 35,
   "id": "4961aaae-66b1-4893-ab1e-3ad52627a7fa",
   "metadata": {
    "tags": []
   },
   "outputs": [
    {
     "data": {
      "text/latex": [
       "$\\displaystyle 2 x \\cos{\\left(x^{2} \\right)}$"
      ],
      "text/plain": [
       "2*x*cos(x**2)"
      ]
     },
     "execution_count": 35,
     "metadata": {},
     "output_type": "execute_result"
    }
   ],
   "source": [
    "# f(x) = sin(x^2)\n",
    "func = sp.sin(x**2)\n",
    "\n",
    "# f'(x) = 2xcos(x^2)\n",
    "sp.Derivative(func, x).doit()"
   ]
  }
 ],
 "metadata": {
  "kernelspec": {
   "display_name": "Python 3 (ipykernel)",
   "language": "python",
   "name": "python3"
  },
  "language_info": {
   "codemirror_mode": {
    "name": "ipython",
    "version": 3
   },
   "file_extension": ".py",
   "mimetype": "text/x-python",
   "name": "python",
   "nbconvert_exporter": "python",
   "pygments_lexer": "ipython3",
   "version": "3.11.5"
  }
 },
 "nbformat": 4,
 "nbformat_minor": 5
}
