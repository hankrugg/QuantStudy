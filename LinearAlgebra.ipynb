{
 "cells": [
  {
   "cell_type": "markdown",
   "id": "f7e69c71-0fb9-467c-b320-54608033a96d",
   "metadata": {},
   "source": [
    "# Linear Algebra"
   ]
  },
  {
   "cell_type": "markdown",
   "id": "992084c4-b2c7-43a7-a1df-ed2f9480933b",
   "metadata": {},
   "source": [
    "## Addition and Subtraction"
   ]
  },
  {
   "cell_type": "markdown",
   "id": "1d38138d-8999-4d00-8ab4-4a028115d643",
   "metadata": {},
   "source": [
    "For matrix addition and subtraction, you need two of the exact same sized matricies. For example, A = 2columns x 2rows and B = 2columns x 2rows. To add them, you add the corresponding elements to get a matrix of the same size."
   ]
  },
  {
   "cell_type": "code",
   "execution_count": 1,
   "id": "8e189929-34b5-49fe-ac0b-4dbf238c2992",
   "metadata": {
    "tags": []
   },
   "outputs": [
    {
     "data": {
      "text/plain": [
       "array([[ 3,  3],\n",
       "       [ 6, 13]])"
      ]
     },
     "execution_count": 1,
     "metadata": {},
     "output_type": "execute_result"
    }
   ],
   "source": [
    "import numpy as np\n",
    "\n",
    "A = np.array([[2, 3],\n",
    "              [4, 5]])\n",
    "\n",
    "B = np.array([[1, 0],\n",
    "              [2, 8]])\n",
    "\n",
    "A + B"
   ]
  },
  {
   "cell_type": "code",
   "execution_count": 2,
   "id": "660cd75b-9ce1-4187-a1f9-0602274c1fa8",
   "metadata": {
    "tags": []
   },
   "outputs": [
    {
     "data": {
      "text/plain": [
       "array([[ 1,  3],\n",
       "       [ 2, -3]])"
      ]
     },
     "execution_count": 2,
     "metadata": {},
     "output_type": "execute_result"
    }
   ],
   "source": [
    "A - B"
   ]
  },
  {
   "cell_type": "markdown",
   "id": "5d8a88c6-360b-4fdd-982a-e55d3062f05d",
   "metadata": {
    "tags": []
   },
   "source": [
    "# Multiplication"
   ]
  },
  {
   "cell_type": "markdown",
   "id": "dabbfcbf-d02b-4079-a165-a19c0fd99077",
   "metadata": {},
   "source": [
    "Multiplying matricies is a bit more complicated. Unlike multiplying numbers, there is no commutative property. The order you multiply matricies is important. The number of rows in the first matrix must match the number of columns in the second matrix. The matrix you recieve is the amount of columns of the first matrix by the amount of rows in the second matrix. For example, multiplying a (2x4) and (4x3) matrix will produce a (2x3) matrix.\n",
    "\n",
    "To actually do the multiplication, you multiply each element of the first row in the first matrix by each element of the first column of the second matrix. You add these values and the result becomes the first element in the resulting matrix. You follow this pattern until the whole resulting matrix is filled."
   ]
  },
  {
   "cell_type": "code",
   "execution_count": 4,
   "id": "580ad468-256f-4f65-9c0d-09ae8fed3998",
   "metadata": {
    "tags": []
   },
   "outputs": [
    {
     "data": {
      "text/plain": [
       "array([[28, 37],\n",
       "       [50, 65]])"
      ]
     },
     "execution_count": 4,
     "metadata": {},
     "output_type": "execute_result"
    }
   ],
   "source": [
    "A = np.array([[2, 3, 4],\n",
    "              [9, 4, 2]])\n",
    "\n",
    "B = np.array([[2, 3],\n",
    "              [8, 9],\n",
    "              [0, 1]])\n",
    "\n",
    "A @ B"
   ]
  },
  {
   "cell_type": "markdown",
   "id": "b83b630d-a4fe-40fd-82f1-b5db3bdb4f36",
   "metadata": {},
   "source": [
    "# Determinant"
   ]
  },
  {
   "cell_type": "markdown",
   "id": "1c0026bd-c5a7-485b-ad17-6b91e1412cd7",
   "metadata": {},
   "source": [
    "The determinant is a characteristic of a matrix that can provide different information about the matrix. Most notably, it tells us if there is an inverse of the matrix. If the determinant is 0, there is no inverse. To calculate the determinant of matrix A =  [[a,b][c,d]], you use the following formula, det(A) = ad-bc. "
   ]
  },
  {
   "cell_type": "code",
   "execution_count": 10,
   "id": "092463d4-8a6f-461a-b101-a0219eb0012b",
   "metadata": {
    "tags": []
   },
   "outputs": [
    {
     "data": {
      "text/plain": [
       "0.42187500000000006"
      ]
     },
     "execution_count": 10,
     "metadata": {},
     "output_type": "execute_result"
    }
   ],
   "source": [
    "A = np.array([[0.75, 0, 0],\n",
    "              [-0.5, 0.75, 0],\n",
    "              [-0.25, -0.5, 0.75]])\n",
    "\n",
    "detA = np.linalg.det(A)\n",
    "detA"
   ]
  },
  {
   "cell_type": "markdown",
   "id": "75173202-55c1-4273-a33f-6bd68b9bf684",
   "metadata": {
    "tags": []
   },
   "source": [
    "## Inverse"
   ]
  },
  {
   "cell_type": "markdown",
   "id": "9bb7ef40-9982-48f9-9183-2634289e364b",
   "metadata": {},
   "source": [
    "The inverse of a matrix is what you multiply to get the identity matrix. It is equivaled to division for numbers. To find the inverse, scale the adjugate matrix, A, by 1/det(A)."
   ]
  },
  {
   "cell_type": "code",
   "execution_count": 11,
   "id": "581ace36-8b12-4385-9b8e-dc510edd9d3f",
   "metadata": {
    "tags": []
   },
   "outputs": [
    {
     "data": {
      "text/plain": [
       "array([[1.33333333, 0.        , 0.        ],\n",
       "       [0.88888889, 1.33333333, 0.        ],\n",
       "       [1.03703704, 0.88888889, 1.33333333]])"
      ]
     },
     "execution_count": 11,
     "metadata": {},
     "output_type": "execute_result"
    }
   ],
   "source": [
    "np.linalg.inv(A)"
   ]
  },
  {
   "cell_type": "code",
   "execution_count": 15,
   "id": "e6ed6eca-d93a-4d34-9ce0-27475242d2de",
   "metadata": {
    "tags": []
   },
   "outputs": [
    {
     "ename": "AttributeError",
     "evalue": "module 'numpy.linalg' has no attribute 'adjugate'",
     "output_type": "error",
     "traceback": [
      "\u001b[0;31m---------------------------------------------------------------------------\u001b[0m",
      "\u001b[0;31mAttributeError\u001b[0m                            Traceback (most recent call last)",
      "Cell \u001b[0;32mIn[15], line 1\u001b[0m\n\u001b[0;32m----> 1\u001b[0m np\u001b[38;5;241m.\u001b[39mlinalg\u001b[38;5;241m.\u001b[39madjugate(A)\n",
      "\u001b[0;31mAttributeError\u001b[0m: module 'numpy.linalg' has no attribute 'adjugate'"
     ]
    }
   ],
   "source": [
    "np.linalg.adjugate(A)"
   ]
  },
  {
   "cell_type": "code",
   "execution_count": 13,
   "id": "4e8d5032-b123-497e-951c-d03f9e9bb9dc",
   "metadata": {
    "tags": []
   },
   "outputs": [
    {
     "data": {
      "text/plain": [
       "array([[ 1.77777778,  0.        ,  0.        ],\n",
       "       [-1.18518519,  1.77777778,  0.        ],\n",
       "       [-0.59259259, -1.18518519,  1.77777778]])"
      ]
     },
     "execution_count": 13,
     "metadata": {},
     "output_type": "execute_result"
    }
   ],
   "source": [
    "(1/detA) * np.adju"
   ]
  },
  {
   "cell_type": "markdown",
   "id": "4f0b43c0-ff64-45fc-89de-499ac17624e8",
   "metadata": {
    "tags": []
   },
   "source": [
    "## Row Reduction for linear systems"
   ]
  },
  {
   "cell_type": "code",
   "execution_count": 48,
   "id": "39562750-a81a-4295-9e64-b4f26af82486",
   "metadata": {
    "tags": []
   },
   "outputs": [
    {
     "data": {
      "text/plain": [
       "(Matrix([\n",
       " [1, 0, 0,  649.5],\n",
       " [0, 1, 0, -24.75],\n",
       " [0, 0, 1,    1.0]]),\n",
       " (0, 1, 2))"
      ]
     },
     "execution_count": 48,
     "metadata": {},
     "output_type": "execute_result"
    }
   ],
   "source": [
    "from sympy import Matrix\n",
    "A = Matrix([\n",
    "            [4, 4, 1, 2500],\n",
    "            [1, 2, 0, 600],\n",
    "            [0, 0, 258.8011, 258.8011]\n",
    "                ])\n",
    "\n",
    "A.rref()"
   ]
  },
  {
   "cell_type": "code",
   "execution_count": 38,
   "id": "504047d6-4b66-4eb7-bbb0-4fb1aac667be",
   "metadata": {
    "tags": []
   },
   "outputs": [],
   "source": [
    "t1 = np.arctan(40/30) * 180 / np.pi\n",
    "t2 = np.arctan(10/20) * 180 / np.pi\n",
    "t3 = (180 - 90 - t1 - t2) * np.pi / 180"
   ]
  },
  {
   "cell_type": "code",
   "execution_count": 39,
   "id": "87f8f64e-f9f1-4a81-91bf-4303f5b1f5df",
   "metadata": {
    "tags": []
   },
   "outputs": [
    {
     "data": {
      "text/plain": [
       "0.17985349979247822"
      ]
     },
     "execution_count": 39,
     "metadata": {},
     "output_type": "execute_result"
    }
   ],
   "source": [
    "t3"
   ]
  },
  {
   "cell_type": "code",
   "execution_count": 43,
   "id": "d8126630-aecd-40e0-beec-eea211e13072",
   "metadata": {
    "tags": []
   },
   "outputs": [
    {
     "data": {
      "text/plain": [
       "258.8011164379651"
      ]
     },
     "execution_count": 43,
     "metadata": {},
     "output_type": "execute_result"
    }
   ],
   "source": [
    "(np.sqrt(500) / np.arccos(t3))**2"
   ]
  }
 ],
 "metadata": {
  "kernelspec": {
   "display_name": "Python 3 (ipykernel)",
   "language": "python",
   "name": "python3"
  },
  "language_info": {
   "codemirror_mode": {
    "name": "ipython",
    "version": 3
   },
   "file_extension": ".py",
   "mimetype": "text/x-python",
   "name": "python",
   "nbconvert_exporter": "python",
   "pygments_lexer": "ipython3",
   "version": "3.11.5"
  }
 },
 "nbformat": 4,
 "nbformat_minor": 5
}
