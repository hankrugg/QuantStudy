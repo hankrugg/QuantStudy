{
 "cells": [
  {
   "cell_type": "markdown",
   "id": "d3ddd7ff-99f5-41e5-90d1-7c163d93ea7a",
   "metadata": {},
   "source": [
    "# Probability"
   ]
  },
  {
   "cell_type": "markdown",
   "id": "a056e55d-3837-46c0-af4c-fcc0b0067aa1",
   "metadata": {},
   "source": [
    "Probability is a measure of how likely an outcome is. It is always measured between 0 and 1, with 0 being never going to happen, and 1 being always going to happen."
   ]
  },
  {
   "cell_type": "markdown",
   "id": "2086f672-91fa-447c-bbff-3da563c2a21d",
   "metadata": {},
   "source": [
    "## Basics"
   ]
  },
  {
   "cell_type": "markdown",
   "id": "235004a7-4d2f-4aab-879a-98a00f41b908",
   "metadata": {
    "tags": []
   },
   "source": [
    "Basic probability are things like coin flips and card pulls. The formula for probability is, amount of desired outcomes / amount of total outcomes. "
   ]
  },
  {
   "cell_type": "code",
   "execution_count": 26,
   "id": "c0d3b170-a4a0-4b7c-aa82-0bf0b388906b",
   "metadata": {
    "tags": []
   },
   "outputs": [
    {
     "data": {
      "text/plain": [
       "0.5"
      ]
     },
     "execution_count": 26,
     "metadata": {},
     "output_type": "execute_result"
    }
   ],
   "source": [
    "# probability of flipping a coin and getting heads\n",
    "# 1 desired outcome (H), 2 total outcomes (H,T)\n",
    "p_head = 1/2\n",
    "p_head"
   ]
  },
  {
   "cell_type": "markdown",
   "id": "be1a03eb-e996-40c1-b004-92f9a039de7f",
   "metadata": {},
   "source": [
    "To verify that we got the correct solution, we can leverge the law of large numbers and computer simulations to simulate the event and calculate the observed probability. This will not give us the exact probability, but if we are close the the calcualted probabiliyt, we can be confident in out solution."
   ]
  },
  {
   "cell_type": "code",
   "execution_count": 27,
   "id": "b1cba915-d70c-408f-9066-1c837cc17608",
   "metadata": {
    "tags": []
   },
   "outputs": [
    {
     "name": "stdout",
     "output_type": "stream",
     "text": [
      "0.5008\n"
     ]
    }
   ],
   "source": [
    "import numpy as np\n",
    "iterations = 10000\n",
    "\n",
    "heads = 0\n",
    "for i in range(iterations):\n",
    "    heads += np.random.randint(0,2)\n",
    "    \n",
    "print(heads / iterations)"
   ]
  },
  {
   "cell_type": "markdown",
   "id": "97ea6f4c-a990-4e3e-ac79-04a37976e2c0",
   "metadata": {},
   "source": [
    "## Expected Value"
   ]
  },
  {
   "cell_type": "markdown",
   "id": "680d1cf1-e9b4-4470-a052-0ad5b36dadaa",
   "metadata": {
    "tags": []
   },
   "source": [
    "A big part of probability is determining the expected value. The expected value is the outcome you would expect to get if you ran a large number of trials. It can be calucated by summing the outcome times the probability for each outcome and probability pair."
   ]
  },
  {
   "cell_type": "code",
   "execution_count": 34,
   "id": "bb5982db-54f4-4bad-b298-6e9c5c601832",
   "metadata": {
    "tags": []
   },
   "outputs": [
    {
     "data": {
      "text/plain": [
       "3.5000000000000004"
      ]
     },
     "execution_count": 34,
     "metadata": {},
     "output_type": "execute_result"
    }
   ],
   "source": [
    "# Dice roll expected value\n",
    "p = [1/6]*6\n",
    "\n",
    "outcomes = np.arange(1,7)\n",
    "\n",
    "expected_value = np.average(outcomes, weights = p)\n",
    "expected_value"
   ]
  },
  {
   "cell_type": "code",
   "execution_count": 42,
   "id": "ecd7ee6d-3d33-4dba-932d-6a7d75287b8d",
   "metadata": {
    "tags": []
   },
   "outputs": [
    {
     "name": "stdout",
     "output_type": "stream",
     "text": [
      "3.5056\n"
     ]
    }
   ],
   "source": [
    "iterations = 10000\n",
    "\n",
    "count = 0\n",
    "for i in range(iterations):\n",
    "    count += np.random.randint(1,7)\n",
    "    \n",
    "print(count / iterations)"
   ]
  },
  {
   "cell_type": "markdown",
   "id": "fc2d701c-7069-44b1-9c4d-2fabbc30827e",
   "metadata": {},
   "source": [
    "### Expected steps"
   ]
  },
  {
   "cell_type": "markdown",
   "id": "b168d362-3d11-4db3-aa45-13108460035f",
   "metadata": {},
   "source": [
    "Taking expected value one step further, you can solve for how many steps you would expect to take to reach a certain state."
   ]
  },
  {
   "cell_type": "code",
   "execution_count": null,
   "id": "737bb6d0-09b3-4c22-b0aa-1efb65f1a697",
   "metadata": {},
   "outputs": [],
   "source": [
    "# how many cards to pull to get an ace\n",
    "# bars and stars method\n",
    "# "
   ]
  }
 ],
 "metadata": {
  "kernelspec": {
   "display_name": "Python 3 (ipykernel)",
   "language": "python",
   "name": "python3"
  },
  "language_info": {
   "codemirror_mode": {
    "name": "ipython",
    "version": 3
   },
   "file_extension": ".py",
   "mimetype": "text/x-python",
   "name": "python",
   "nbconvert_exporter": "python",
   "pygments_lexer": "ipython3",
   "version": "3.11.5"
  }
 },
 "nbformat": 4,
 "nbformat_minor": 5
}
