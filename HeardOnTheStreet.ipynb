{
 "cells": [
  {
   "cell_type": "markdown",
   "id": "8c86e6f7-fa30-4018-bc65-093e128e5a31",
   "metadata": {
    "tags": []
   },
   "source": [
    "# Chapter 1 Purely Quantitative & Logic Questions"
   ]
  },
  {
   "cell_type": "markdown",
   "id": "1f6d96b8-c7c8-48c5-9955-68d22eb11b4e",
   "metadata": {
    "jp-MarkdownHeadingCollapsed": true,
    "tags": []
   },
   "source": [
    "## 1.1"
   ]
  },
  {
   "cell_type": "markdown",
   "id": "3159a4b8-0e55-45e0-b775-0871bb3350f5",
   "metadata": {
    "tags": []
   },
   "source": [
    "### You are given two glass jugs. Each contains the same volume V of liquid. One jug contains pure alcohol, and the other jug contains pure water. A modest quantity, Q, of water is poured from the water jug into the alcohol jug, which is then thoroughly mixed. The same modest quantity, Q, of (now diluted) alcohol is then poured back into the water jug to equalize the volumes of the jugs at their initial levels.\n",
    "\n",
    "### The initial concentration of alcohol in the alcohol jug equals the inital concentration of water in the water jug (at 100%). What is the relationship between the final concentrations of alcohol in the alcohol jug and the water in the water jug?"
   ]
  },
  {
   "cell_type": "markdown",
   "id": "41839acc-3107-4df6-9011-8c65b7906f52",
   "metadata": {
    "jp-MarkdownHeadingCollapsed": true,
    "tags": []
   },
   "source": [
    "#### Answer"
   ]
  },
  {
   "cell_type": "markdown",
   "id": "128d2074-404b-4992-9911-347ce720f6db",
   "metadata": {},
   "source": [
    "They have the same relationship."
   ]
  },
  {
   "cell_type": "code",
   "execution_count": 103,
   "id": "04881a69-d501-41e0-b75b-b37b84db1e67",
   "metadata": {
    "tags": []
   },
   "outputs": [
    {
     "name": "stdout",
     "output_type": "stream",
     "text": [
      "123.03149606299212 molecules of water in the water jug.\n",
      "123.03149606299246 molecules of alcohol in the alcohol jug.\n"
     ]
    }
   ],
   "source": [
    "from statistics import mean\n",
    "\n",
    "# change v and q to change the simulation\n",
    "v = 125\n",
    "q = 2\n",
    "\n",
    "\n",
    "water = [0] * v\n",
    "alcohol = [1] * v\n",
    "\n",
    "# Remove the water from the water jug\n",
    "transfered_water = [water.pop() for _ in range(q)]\n",
    "\n",
    "# add the water\n",
    "alcohol.extend(transfered_water)\n",
    "\n",
    "# mix the water\n",
    "alcohol = [mean(alcohol) for molecule in alcohol]\n",
    "\n",
    "# remove q of the mixture\n",
    "transfered_alc = [alcohol.pop() for _ in range(q)]\n",
    "\n",
    "# add it back to the water\n",
    "water.extend(transfered_alc)\n",
    "\n",
    "# count the water in the water\n",
    "water_count = 0\n",
    "for i in water:\n",
    "    water_count += 1-i # opposite of the amount of alcohol\n",
    "print(f\"{water_count} molecules of water in the water jug.\")\n",
    "\n",
    "\n",
    "# count the alcohol in the alcohol\n",
    "alcohol_count = 0\n",
    "for i in alcohol:\n",
    "    alcohol_count += i \n",
    "print(f\"{alcohol_count} molecules of alcohol in the alcohol jug.\")\n",
    "\n"
   ]
  },
  {
   "cell_type": "markdown",
   "id": "c99889e7-7d1a-4088-af22-340e4134baa3",
   "metadata": {
    "jp-MarkdownHeadingCollapsed": true,
    "tags": []
   },
   "source": [
    "## 1.2"
   ]
  },
  {
   "cell_type": "markdown",
   "id": "7d867579-39ce-4702-b8b5-3db8a71e2188",
   "metadata": {},
   "source": [
    "### There are two bells. One rings five times per minute, and the other rings four times per minute. If they start at the same time, how long will it be until they next ring together?"
   ]
  },
  {
   "cell_type": "markdown",
   "id": "05d635af-ddae-4563-ab39-d41abbee2a47",
   "metadata": {},
   "source": [
    "#### Answer"
   ]
  },
  {
   "cell_type": "code",
   "execution_count": 129,
   "id": "d9548ef5-f375-473e-86f2-a14ffa165419",
   "metadata": {
    "tags": []
   },
   "outputs": [
    {
     "name": "stdout",
     "output_type": "stream",
     "text": [
      "There are 60.0 seconds until the next ring.\n"
     ]
    }
   ],
   "source": [
    "def lcm(a, b):\n",
    "    big = max(a, b)\n",
    "    little = min(a, b)\n",
    "    \n",
    "    multiple = big  # Start with the larger number\n",
    "    while multiple % little != 0:\n",
    "        multiple += big  # Keep adding big until it is divisible by little\n",
    "    \n",
    "    return multiple\n",
    "\n",
    "minute = 60\n",
    "\n",
    "# bell one, seconds per ring (spr)\n",
    "b1_spr = minute / 5\n",
    "\n",
    "# bell two, seconds per ring (spr)\n",
    "b2_spr = minute / 4\n",
    "\n",
    "print(f\"There are {lcm(b1_spr, b2_spr)} seconds until the next ring.\")"
   ]
  },
  {
   "cell_type": "markdown",
   "id": "418f9a3c-600b-410f-b2fb-8cfdfabe6735",
   "metadata": {
    "jp-MarkdownHeadingCollapsed": true,
    "tags": []
   },
   "source": [
    "## 1.3"
   ]
  },
  {
   "cell_type": "markdown",
   "id": "e1d87ba9-b1d4-4e3d-9eae-01e21bb2fffa",
   "metadata": {},
   "source": [
    "### What is the sum of the integers from 1 to 100?"
   ]
  },
  {
   "cell_type": "markdown",
   "id": "fe42ebc0-228f-4622-8e2b-3ccc7ead4f33",
   "metadata": {
    "jp-MarkdownHeadingCollapsed": true,
    "tags": []
   },
   "source": [
    "#### Answer"
   ]
  },
  {
   "cell_type": "code",
   "execution_count": 131,
   "id": "5ffa99ce-8f68-4421-a77e-4c3ca05cfdc5",
   "metadata": {
    "tags": []
   },
   "outputs": [
    {
     "name": "stdout",
     "output_type": "stream",
     "text": [
      "5050\n"
     ]
    }
   ],
   "source": [
    "# brute force way\n",
    "count = 0\n",
    "for i in range(1, 101):\n",
    "    count += i\n",
    "print(count)"
   ]
  },
  {
   "cell_type": "code",
   "execution_count": 158,
   "id": "1897323f-d410-4cc7-ae12-fe531df3dedc",
   "metadata": {
    "tags": []
   },
   "outputs": [
    {
     "name": "stdout",
     "output_type": "stream",
     "text": [
      "5050 is the sum of numbers from 1 to 100.\n"
     ]
    }
   ],
   "source": [
    "# the way you should solve it without code\n",
    "import numpy as np\n",
    "\n",
    "# think of what the list of numbers from 1-100 looks like\n",
    "x = np.arange(1,101)\n",
    "\n",
    "# recognize that 1 + 100 = 101, 2 + 99 = 101\n",
    "# split the list in 2 and add the components\n",
    "x1 = x[:50]\n",
    "x2 = np.flip(x[50:])\n",
    "\n",
    "# get the list of 101\n",
    "result = x1 + x2\n",
    "\n",
    "# there are 100/2 amount of pair of numbers that sum to 101\n",
    "amount = len(result)\n",
    "\n",
    "# multiply 100/2 * 101\n",
    "print(f\"{result[0] * amount} is the sum of numbers from 1 to 100.\")"
   ]
  },
  {
   "cell_type": "markdown",
   "id": "8451e2af-63ac-478b-b305-6cfa3645237c",
   "metadata": {
    "jp-MarkdownHeadingCollapsed": true,
    "tags": []
   },
   "source": [
    "## 1.4"
   ]
  },
  {
   "cell_type": "markdown",
   "id": "bae10e26-dc0f-49a0-9950-ac66b3942c98",
   "metadata": {},
   "source": [
    "### An old syle analogue clock falls off the wall and the face breaks into three pieces. The numbers on each piece add to the same total. Describe the pieces."
   ]
  },
  {
   "cell_type": "markdown",
   "id": "564fbedd-07e0-4a4b-961f-c3d8d9bc342c",
   "metadata": {
    "tags": []
   },
   "source": [
    "#### Answer"
   ]
  },
  {
   "cell_type": "code",
   "execution_count": 164,
   "id": "5320145c-386f-4fc8-bd7d-3375fe1199a6",
   "metadata": {
    "tags": []
   },
   "outputs": [
    {
     "name": "stdout",
     "output_type": "stream",
     "text": [
      "Sum of each clock piece is 26\n"
     ]
    }
   ],
   "source": [
    "import numpy as np\n",
    "clock = np.arange(1,13)\n",
    "print(f'Sum of each clock piece is {sum(clock)//3}')\n",
    "piece1 = []\n",
    "piece2 = []\n",
    "piece3 = []\n",
    "while sum(piece1) != 26 and sum(piece2) != 26 sum(piece3) != 26:\n",
    "    for i in clock:\n",
    "        x = np.random.randint(1,len(clock)):\n",
    "            y = np.random.choice\n",
    "    "
   ]
  },
  {
   "cell_type": "markdown",
   "id": "3b4d0f42-90cf-4ab9-ab8e-edc71034d2b6",
   "metadata": {
    "tags": []
   },
   "source": [
    "## 1.5"
   ]
  },
  {
   "cell_type": "markdown",
   "id": "e55781cc-95e9-4d93-8559-8da6010f4749",
   "metadata": {},
   "source": [
    "# Chapter 4 Statistics Questions"
   ]
  },
  {
   "cell_type": "markdown",
   "id": "2afbde9a-4e5a-406e-9c61-581cadcda92b",
   "metadata": {
    "jp-MarkdownHeadingCollapsed": true,
    "tags": []
   },
   "source": [
    "## 4.1"
   ]
  },
  {
   "cell_type": "markdown",
   "id": "c5371a00-131f-4c7c-bf5b-caa18db05097",
   "metadata": {},
   "source": [
    "### Suppose we draw two random numbers X and Y each distributed uniform on the interval [0,1]. If X and Y are independent, what is the probability that their product is greater than 1/2?"
   ]
  },
  {
   "cell_type": "markdown",
   "id": "24f90dbd-b44d-4534-8aca-68c42f0cca33",
   "metadata": {
    "jp-MarkdownHeadingCollapsed": true,
    "tags": []
   },
   "source": [
    "### Answer"
   ]
  },
  {
   "cell_type": "code",
   "execution_count": 165,
   "id": "8e73f93f-f47a-4f8e-9bf3-49a30dcb7778",
   "metadata": {
    "tags": []
   },
   "outputs": [],
   "source": [
    "import matplotlib.pyplot as plt\n",
    "import sympy as sp"
   ]
  },
  {
   "cell_type": "code",
   "execution_count": 191,
   "id": "7f0b3b6e-5a6c-45e2-ad6a-f7235413f3cf",
   "metadata": {
    "tags": []
   },
   "outputs": [
    {
     "name": "stdout",
     "output_type": "stream",
     "text": [
      "Probability is 0.153426409720027 of x*y > 0.5\n"
     ]
    },
    {
     "name": "stderr",
     "output_type": "stream",
     "text": [
      "/var/folders/67/k52p4h0s1f1bm45kd56y13900000gn/T/ipykernel_18706/2790552129.py:2: RuntimeWarning: divide by zero encountered in divide\n",
      "  y = 0.5/x\n"
     ]
    },
    {
     "data": {
      "image/png": "[encoded data removed]",
      "text/plain": [
       "<Figure size 640x480 with 1 Axes>"
      ]
     },
     "metadata": {},
     "output_type": "display_data"
    }
   ],
   "source": [
    "x = np.linspace(0,1,100)\n",
    "y = 0.5/x\n",
    "\n",
    "plt.plot(x,y,'r')\n",
    "plt.ylim(0,1)\n",
    "plt.xlim(0,1)\n",
    "plt.vlines(0.5, 0, 1)\n",
    "\n",
    "x = sp.Symbol('x')\n",
    "\n",
    "print(f'Probability is {0.5 - sp.integrate(0.5/x, (x, 0.5, 1))} of x*y > 0.5')\n"
   ]
  },
  {
   "cell_type": "code",
   "execution_count": 213,
   "id": "dd4c2172-2db3-4eb6-9c01-4a2149116104",
   "metadata": {
    "tags": []
   },
   "outputs": [
    {
     "name": "stdout",
     "output_type": "stream",
     "text": [
      "0.153146\n"
     ]
    }
   ],
   "source": [
    "iterations = 1000000\n",
    "count = 0\n",
    "for i in range(iterations):\n",
    "    x = np.random.uniform(0,1)\n",
    "    y = np.random.uniform(0,1)\n",
    "    if x * y > 0.5:\n",
    "        count += 1\n",
    "print(count/iterations)"
   ]
  },
  {
   "cell_type": "markdown",
   "id": "375ebdef-7f37-4129-a5e8-ef5ddc820dff",
   "metadata": {
    "jp-MarkdownHeadingCollapsed": true,
    "tags": []
   },
   "source": [
    "## 4.2"
   ]
  },
  {
   "cell_type": "markdown",
   "id": "013c719f-463a-493f-af5e-78d4c31564bc",
   "metadata": {
    "jp-MarkdownHeadingCollapsed": true,
    "tags": []
   },
   "source": [
    "### Consider the following game. The player tosses a die once only. The playoff is $1 for each \"dot\" on the upturned face. Assuming a fair die, at what level should you set the ticket price for this game?"
   ]
  },
  {
   "cell_type": "markdown",
   "id": "667bb7d1-1065-4797-8527-a13b6622245b",
   "metadata": {
    "tags": []
   },
   "source": [
    "### Answer"
   ]
  },
  {
   "cell_type": "code",
   "execution_count": 767,
   "id": "02f8959f-e92e-41e7-a821-21b01b616dd2",
   "metadata": {
    "tags": []
   },
   "outputs": [
    {
     "name": "stdout",
     "output_type": "stream",
     "text": [
      "Set the price at 3.5000000000000004 if you want to break even. Anything more will be profit.\n"
     ]
    }
   ],
   "source": [
    "winnings = [1,2,3,4,5,6]\n",
    "probs = [1/6, 1/6, 1/6, 1/6, 1/6, 1/6]\n",
    "\n",
    "print(f'Set the price at {np.average(winnings, weights=probs)} if you want to break even. Anything more will be profit.')"
   ]
  },
  {
   "cell_type": "code",
   "execution_count": 768,
   "id": "7dc4c247-ef14-4cc2-a730-5e4073511ab3",
   "metadata": {
    "tags": []
   },
   "outputs": [
    {
     "name": "stdout",
     "output_type": "stream",
     "text": [
      "3.5187\n"
     ]
    }
   ],
   "source": [
    "iterations = 10000\n",
    "count = 0\n",
    "for i in range(iterations):\n",
    "    count += np.random.choice(winnings)\n",
    "print(count/iterations)"
   ]
  },
  {
   "cell_type": "markdown",
   "id": "c483f27d-fc8c-4f17-9518-2b2e744081d1",
   "metadata": {
    "jp-MarkdownHeadingCollapsed": true,
    "tags": []
   },
   "source": [
    "## 4.3"
   ]
  },
  {
   "cell_type": "markdown",
   "id": "dd8bd02f-767a-44de-9294-084acc0fe70f",
   "metadata": {},
   "source": [
    "### I am going to toss four coins. You are going to toss five coins. You win if you get strictly more heads than I do. What is the probability that you win?"
   ]
  },
  {
   "cell_type": "markdown",
   "id": "c27f997b-309c-45b9-bc7f-e6c57ad24b5d",
   "metadata": {},
   "source": [
    "### Answer"
   ]
  },
  {
   "cell_type": "code",
   "execution_count": 301,
   "id": "adca8713-8304-4e89-954f-0523bd8152ce",
   "metadata": {
    "tags": []
   },
   "outputs": [
    {
     "name": "stdout",
     "output_type": "stream",
     "text": [
      "0.49\n"
     ]
    }
   ],
   "source": [
    "iterations = 1000\n",
    "wins = 0\n",
    "\n",
    "for i in range(iterations):       \n",
    "    me = [np.random.randint(0,2) for i in range(4)]\n",
    "    you = [np.random.randint(0,2) for i in range(5)]\n",
    "\n",
    "    if sum(you) > sum(me):\n",
    "        wins += 1\n",
    "    \n",
    "print(wins/iterations)"
   ]
  },
  {
   "cell_type": "code",
   "execution_count": 539,
   "id": "301b648b-8676-49f2-bb50-1abf6c73aefa",
   "metadata": {
    "tags": []
   },
   "outputs": [
    {
     "name": "stdout",
     "output_type": "stream",
     "text": [
      "4.667436\n"
     ]
    }
   ],
   "source": [
    "iterations = 1000000\n",
    "count = 0\n",
    "\n",
    "for i in range(iterations):\n",
    "    chosen = 0\n",
    "    for i in range(3):\n",
    "        x = np.random.randint(1,7)\n",
    "        if i == 0:\n",
    "            if x > 4:\n",
    "                chosen = x\n",
    "                break\n",
    "        if i == 1:\n",
    "            if x > 3:\n",
    "                chosen = x\n",
    "                break\n",
    "        if i == 2:\n",
    "            chosen = x\n",
    "    count += x\n",
    "\n",
    "print(count/iterations)"
   ]
  },
  {
   "cell_type": "markdown",
   "id": "15a34ee6-c935-474a-85a7-920e25461811",
   "metadata": {
    "jp-MarkdownHeadingCollapsed": true,
    "tags": []
   },
   "source": [
    "## 4.22"
   ]
  },
  {
   "cell_type": "markdown",
   "id": "0367ab92-e421-46f3-9e00-6a145b11105d",
   "metadata": {},
   "source": [
    "### You have a large jar containing 999 fair pennies and one two-headed penny. Suppose you pick one coin out of the jar and flip it 10 times and get all heads. What is the probability that the coin you chose is the two-headed one?"
   ]
  },
  {
   "cell_type": "markdown",
   "id": "6d0ca352-c59f-4c53-841b-876b338002f0",
   "metadata": {
    "tags": []
   },
   "source": [
    "### Answer"
   ]
  },
  {
   "cell_type": "code",
   "execution_count": 609,
   "id": "cf5aeee4-96c9-48c7-a44e-fcbca061ffb0",
   "metadata": {
    "tags": []
   },
   "outputs": [
    {
     "name": "stdout",
     "output_type": "stream",
     "text": [
      "0.5061789421651013\n"
     ]
    }
   ],
   "source": [
    "# P(A|B) = P(B|A) * P(A) / P(B)\n",
    "\n",
    "# P(A|B) = probability you have the biased penny given you get 10 heads in a row\n",
    "# P(B|A) = probability you get 10 heads given you have the biased penny\n",
    "# P(A) probability you draw the biased penny\n",
    "# P(B) total probability you get 10 heads in a row (not straight forward)\n",
    "\n",
    "# P(A)\n",
    "p_draw_biased = 1/1000\n",
    "\n",
    "# P(~A)\n",
    "p_draw_fair = 999/1000\n",
    "\n",
    "# P(B|~A)\n",
    "p_10_head_with_fair = 1/2**10\n",
    "\n",
    "# P(B|A)\n",
    "p_10_head_with_biased = 1\n",
    "\n",
    "# P(B) = P(B|A)*P(A) + P(B|~A)*P(~A)\n",
    "\n",
    "p_all_heads_total = p_10_head_with_biased*p_draw_biased + p_10_head_with_fair*p_draw_fair\n",
    "print(p_10_head_with_biased * p_draw_biased / p_all_heads_total)"
   ]
  },
  {
   "cell_type": "code",
   "execution_count": 610,
   "id": "4b91581e-b778-4eb9-8a4e-6de81ae4f7b8",
   "metadata": {
    "tags": []
   },
   "outputs": [
    {
     "name": "stdout",
     "output_type": "stream",
     "text": [
      "0.5046826222684704\n"
     ]
    }
   ],
   "source": [
    "iterations = 1000000\n",
    "\n",
    "biased = 0\n",
    "fair = 0\n",
    "for i in range(iterations):\n",
    "    p = ['f']*999\n",
    "    p.append('b')\n",
    "\n",
    "    choice = np.random.choice(p)\n",
    "\n",
    "    flips = []\n",
    "    for i in range(10):\n",
    "        if choice == 'f':\n",
    "            flips.append(np.random.randint(0,2))\n",
    "        else:\n",
    "            flips.append(0)\n",
    "    if sum(flips) == 0:\n",
    "        if choice == 'b':\n",
    "            biased += 1\n",
    "        else:\n",
    "            fair += 1\n",
    "print(biased / (biased + fair))"
   ]
  },
  {
   "cell_type": "markdown",
   "id": "6fac02c1-82fa-408b-ad61-940c05998f50",
   "metadata": {
    "jp-MarkdownHeadingCollapsed": true,
    "tags": []
   },
   "source": [
    "## 4.28"
   ]
  },
  {
   "cell_type": "markdown",
   "id": "6a1546a5-32f7-433e-991a-665f476bdb83",
   "metadata": {},
   "source": [
    "### What is the expected number of tosses of an unfair coin needed to get two heads in a row (assume probability p of a head)? Same questions with three heads in a row."
   ]
  },
  {
   "cell_type": "code",
   "execution_count": 766,
   "id": "2d0fc229-9860-4dad-9deb-2a0fbdeda1d1",
   "metadata": {
    "tags": []
   },
   "outputs": [
    {
     "name": "stdout",
     "output_type": "stream",
     "text": [
      "181.99999999999997\n"
     ]
    }
   ],
   "source": [
    "def expected_flips(n, p):\n",
    "    numerator = sum(p**k for k in range(n))  # Sum of 1 to p^(n-1)\n",
    "    denominator = p**n  # p^n\n",
    "    return numerator / denominator\n",
    "\n",
    "# Example with n = 3 consecutive heads, p = 0.3 probability of heads\n",
    "n = 2\n",
    "p = 1/13\n",
    "\n",
    "expected_value = expected_flips(n, p)\n",
    "print(expected_value)\n"
   ]
  },
  {
   "cell_type": "code",
   "execution_count": 763,
   "id": "39c9e4dd-e526-4ee9-b2c6-9d5c54a432c1",
   "metadata": {
    "tags": []
   },
   "outputs": [
    {
     "name": "stdout",
     "output_type": "stream",
     "text": [
      "181.29117\n"
     ]
    }
   ],
   "source": [
    "amount = 2\n",
    "iterations = 100000\n",
    "\n",
    "p = 1/13\n",
    "\n",
    "flip_count = []\n",
    "\n",
    "for i in range(iterations):\n",
    "    count = 0\n",
    "    flips = []\n",
    "\n",
    "    while sum(flips) != amount:\n",
    "        x = np.random.choice([0,1], p=[1-p, p])\n",
    "        if x == 1:\n",
    "            flips.append(1)\n",
    "        else:\n",
    "            flips.clear()\n",
    "        count += 1\n",
    "    flip_count.append(count)\n",
    "print(np.average(flip_count))"
   ]
  }
 ],
 "metadata": {
  "kernelspec": {
   "display_name": "Python 3 (ipykernel)",
   "language": "python",
   "name": "python3"
  },
  "language_info": {
   "codemirror_mode": {
    "name": "ipython",
    "version": 3
   },
   "file_extension": ".py",
   "mimetype": "text/x-python",
   "name": "python",
   "nbconvert_exporter": "python",
   "pygments_lexer": "ipython3",
   "version": "3.11.5"
  }
 },
 "nbformat": 4,
 "nbformat_minor": 5
}
